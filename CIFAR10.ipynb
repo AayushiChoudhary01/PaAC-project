{
  "nbformat": 4,
  "nbformat_minor": 0,
  "metadata": {
    "colab": {
      "provenance": [],
      "gpuType": "T4",
      "authorship_tag": "ABX9TyPKu1LvYEoPx3gLOW7++28F",
      "include_colab_link": true
    },
    "kernelspec": {
      "name": "python3",
      "display_name": "Python 3"
    },
    "language_info": {
      "name": "python"
    },
    "accelerator": "GPU"
  },
  "cells": [
    {
      "cell_type": "markdown",
      "metadata": {
        "id": "view-in-github",
        "colab_type": "text"
      },
      "source": [
        "<a href=\"https://colab.research.google.com/github/AayushiChoudhary01/cifar10/blob/main/CIFAR10.ipynb\" target=\"_parent\"><img src=\"https://colab.research.google.com/assets/colab-badge.svg\" alt=\"Open In Colab\"/></a>"
      ]
    },
    {
      "cell_type": "code",
      "execution_count": null,
      "metadata": {
        "id": "bX_2MeFz4G-c"
      },
      "outputs": [],
      "source": [
        "import tensorflow as tf\n",
        "from tensorflow.keras import models, datasets\n",
        "import numpy as np\n",
        "import matplotlib.pyplot as plt\n",
        "from tensorflow.keras.layers import Conv2D, Flatten, Dense, MaxPooling2D, Dropout"
      ]
    },
    {
      "cell_type": "code",
      "source": [
        "(X_train, y_train), (X_test, y_test) = datasets.cifar10.load_data()"
      ],
      "metadata": {
        "colab": {
          "base_uri": "https://localhost:8080/"
        },
        "id": "nfbA83CL4V2P",
        "outputId": "c4a30209-d206-4556-ada7-3b9a722d8891"
      },
      "execution_count": null,
      "outputs": [
        {
          "output_type": "stream",
          "name": "stdout",
          "text": [
            "Downloading data from https://www.cs.toronto.edu/~kriz/cifar-10-python.tar.gz\n",
            "170498071/170498071 [==============================] - 13s 0us/step\n"
          ]
        }
      ]
    },
    {
      "cell_type": "code",
      "source": [
        "print(X_train.shape)"
      ],
      "metadata": {
        "colab": {
          "base_uri": "https://localhost:8080/"
        },
        "id": "lEQg2dSx4fYD",
        "outputId": "62a991ce-1e33-473b-b8c1-c82f4e21bcfc"
      },
      "execution_count": null,
      "outputs": [
        {
          "output_type": "stream",
          "name": "stdout",
          "text": [
            "(50000, 32, 32, 3)\n"
          ]
        }
      ]
    },
    {
      "cell_type": "code",
      "source": [
        "y_train[:5]\n",
        "y_train=y_train.reshape(-1)\n",
        "print(y_train[:5])"
      ],
      "metadata": {
        "colab": {
          "base_uri": "https://localhost:8080/"
        },
        "id": "-JJNq7sy4nVw",
        "outputId": "1ada3827-a012-461c-b77f-d4f69880dbc7"
      },
      "execution_count": null,
      "outputs": [
        {
          "output_type": "stream",
          "name": "stdout",
          "text": [
            "[6 9 9 4 1]\n"
          ]
        }
      ]
    },
    {
      "cell_type": "code",
      "source": [
        "classes=['airplane', 'automobile', 'bird', 'cat', 'deer','dog','frog','horse','ship','truck']\n",
        "classes[y_train[0]]"
      ],
      "metadata": {
        "colab": {
          "base_uri": "https://localhost:8080/",
          "height": 35
        },
        "id": "b6Eodm3I4rKE",
        "outputId": "8b26bee8-3121-4cf1-96c2-272e194f13c0"
      },
      "execution_count": null,
      "outputs": [
        {
          "output_type": "execute_result",
          "data": {
            "text/plain": [
              "'frog'"
            ],
            "application/vnd.google.colaboratory.intrinsic+json": {
              "type": "string"
            }
          },
          "metadata": {},
          "execution_count": 9
        }
      ]
    },
    {
      "cell_type": "code",
      "source": [
        "def plot_sample(X, y, index):\n",
        "    plt.figure(figsize = (15,2))\n",
        "    plt.imshow(X[index])\n",
        "    plt.xlabel(classes[y[index]])"
      ],
      "metadata": {
        "id": "8dUzmL9cCaD4"
      },
      "execution_count": null,
      "outputs": []
    },
    {
      "cell_type": "code",
      "source": [
        "plot_sample(X_train, y_train, 1)"
      ],
      "metadata": {
        "colab": {
          "base_uri": "https://localhost:8080/",
          "height": 237
        },
        "id": "IBsuGgs3CfC7",
        "outputId": "e626b260-fed0-4623-b6c2-d445f482cbb5"
      },
      "execution_count": null,
      "outputs": [
        {
          "output_type": "display_data",
          "data": {
            "text/plain": [
              "<Figure size 1500x200 with 1 Axes>"
            ],
            "image/png": "[encoded data removed]"
          },
          "metadata": {}
        }
      ]
    },
    {
      "cell_type": "code",
      "source": [
        "X_train[:1]"
      ],
      "metadata": {
        "colab": {
          "base_uri": "https://localhost:8080/"
        },
        "id": "ETPSUKd44uqc",
        "outputId": "9e6bcc05-0f38-4204-8c01-f56e230d8561"
      },
      "execution_count": null,
      "outputs": [
        {
          "output_type": "execute_result",
          "data": {
            "text/plain": [
              "array([[[[ 59,  62,  63],\n",
              "         [ 43,  46,  45],\n",
              "         [ 50,  48,  43],\n",
              "         ...,\n",
              "         [158, 132, 108],\n",
              "         [152, 125, 102],\n",
              "         [148, 124, 103]],\n",
              "\n",
              "        [[ 16,  20,  20],\n",
              "         [  0,   0,   0],\n",
              "         [ 18,   8,   0],\n",
              "         ...,\n",
              "         [123,  88,  55],\n",
              "         [119,  83,  50],\n",
              "         [122,  87,  57]],\n",
              "\n",
              "        [[ 25,  24,  21],\n",
              "         [ 16,   7,   0],\n",
              "         [ 49,  27,   8],\n",
              "         ...,\n",
              "         [118,  84,  50],\n",
              "         [120,  84,  50],\n",
              "         [109,  73,  42]],\n",
              "\n",
              "        ...,\n",
              "\n",
              "        [[208, 170,  96],\n",
              "         [201, 153,  34],\n",
              "         [198, 161,  26],\n",
              "         ...,\n",
              "         [160, 133,  70],\n",
              "         [ 56,  31,   7],\n",
              "         [ 53,  34,  20]],\n",
              "\n",
              "        [[180, 139,  96],\n",
              "         [173, 123,  42],\n",
              "         [186, 144,  30],\n",
              "         ...,\n",
              "         [184, 148,  94],\n",
              "         [ 97,  62,  34],\n",
              "         [ 83,  53,  34]],\n",
              "\n",
              "        [[177, 144, 116],\n",
              "         [168, 129,  94],\n",
              "         [179, 142,  87],\n",
              "         ...,\n",
              "         [216, 184, 140],\n",
              "         [151, 118,  84],\n",
              "         [123,  92,  72]]]], dtype=uint8)"
            ]
          },
          "metadata": {},
          "execution_count": 12
        }
      ]
    },
    {
      "cell_type": "code",
      "source": [
        "X_train = X_train/255\n",
        "X_test = X_test/255"
      ],
      "metadata": {
        "id": "S1TmPHJa4xks"
      },
      "execution_count": null,
      "outputs": []
    },
    {
      "cell_type": "code",
      "source": [
        "\n",
        "cnn = models.Sequential([\n",
        "\n",
        "    Conv2D(filters=32, padding = 'same', activation='relu', kernel_size=(3,3), input_shape = [32,32,3]),\n",
        "    Conv2D(filters=64, padding = 'same', activation='relu', kernel_size=(3,3)),\n",
        "    MaxPooling2D(pool_size=(2,2)),\n",
        "    Dropout(0.25),\n",
        "\n",
        "    Conv2D(filters=128, padding = 'same', activation='relu', kernel_size=(3,3)),\n",
        "    Conv2D(filters=256, padding = 'same', activation='relu', kernel_size=(3,3)),\n",
        "    MaxPooling2D(pool_size=(2,2)),\n",
        "    Dropout(0.25),\n",
        "\n",
        "    Flatten(),\n",
        "    Dense(units= 1024,activation = 'relu'),\n",
        "    Dropout(0.5),\n",
        "    Dense(units = 10, activation = 'softmax')\n",
        "])"
      ],
      "metadata": {
        "id": "uDuF-EH941IW"
      },
      "execution_count": null,
      "outputs": []
    },
    {
      "cell_type": "code",
      "source": [
        "cnn.compile(optimizer='adam',\n",
        "              loss= 'sparse_categorical_crossentropy',\n",
        "             metrics = 'accuracy')"
      ],
      "metadata": {
        "id": "3Z2LBg_944yU"
      },
      "execution_count": null,
      "outputs": []
    },
    {
      "cell_type": "code",
      "source": [
        "cnn.fit(X_train, y_train, validation_data = (X_test, y_test), epochs = 10)"
      ],
      "metadata": {
        "colab": {
          "base_uri": "https://localhost:8080/"
        },
        "id": "vxGA8BhM49R1",
        "outputId": "1723fe63-85fa-4cbc-ef93-a46d2468955d"
      },
      "execution_count": null,
      "outputs": [
        {
          "output_type": "stream",
          "name": "stdout",
          "text": [
            "Epoch 1/10\n",
            "1563/1563 [==============================] - 35s 15ms/step - loss: 1.3911 - accuracy: 0.4947 - val_loss: 1.0497 - val_accuracy: 0.6318\n",
            "Epoch 2/10\n",
            "1563/1563 [==============================] - 22s 14ms/step - loss: 0.9765 - accuracy: 0.6547 - val_loss: 0.8688 - val_accuracy: 0.6955\n",
            "Epoch 3/10\n",
            "1563/1563 [==============================] - 22s 14ms/step - loss: 0.8195 - accuracy: 0.7130 - val_loss: 0.8138 - val_accuracy: 0.7145\n",
            "Epoch 4/10\n",
            "1563/1563 [==============================] - 22s 14ms/step - loss: 0.7205 - accuracy: 0.7476 - val_loss: 0.7309 - val_accuracy: 0.7509\n",
            "Epoch 5/10\n",
            "1563/1563 [==============================] - 22s 14ms/step - loss: 0.6468 - accuracy: 0.7728 - val_loss: 0.6791 - val_accuracy: 0.7615\n",
            "Epoch 6/10\n",
            "1563/1563 [==============================] - 22s 14ms/step - loss: 0.5907 - accuracy: 0.7925 - val_loss: 0.6785 - val_accuracy: 0.7674\n",
            "Epoch 7/10\n",
            "1563/1563 [==============================] - 22s 14ms/step - loss: 0.5402 - accuracy: 0.8108 - val_loss: 0.6477 - val_accuracy: 0.7792\n",
            "Epoch 8/10\n",
            "1563/1563 [==============================] - 22s 14ms/step - loss: 0.4954 - accuracy: 0.8262 - val_loss: 0.6614 - val_accuracy: 0.7833\n",
            "Epoch 9/10\n",
            "1563/1563 [==============================] - 24s 15ms/step - loss: 0.4539 - accuracy: 0.8414 - val_loss: 0.6598 - val_accuracy: 0.7785\n",
            "Epoch 10/10\n",
            "1563/1563 [==============================] - 22s 14ms/step - loss: 0.4239 - accuracy: 0.8523 - val_loss: 0.6672 - val_accuracy: 0.7813\n"
          ]
        },
        {
          "output_type": "execute_result",
          "data": {
            "text/plain": [
              "<keras.src.callbacks.History at 0x79ee502d8be0>"
            ]
          },
          "metadata": {},
          "execution_count": 17
        }
      ]
    },
    {
      "cell_type": "code",
      "source": [
        "cnn.evaluate(X_test, y_test)"
      ],
      "metadata": {
        "colab": {
          "base_uri": "https://localhost:8080/"
        },
        "id": "NOENGmug5Cr7",
        "outputId": "cedbf1f0-1cf7-4f0c-f746-6df5ced3b1b5"
      },
      "execution_count": null,
      "outputs": [
        {
          "output_type": "stream",
          "name": "stdout",
          "text": [
            "313/313 [==============================] - 2s 5ms/step - loss: 0.6672 - accuracy: 0.7813\n"
          ]
        },
        {
          "output_type": "execute_result",
          "data": {
            "text/plain": [
              "[0.6672131419181824, 0.7813000082969666]"
            ]
          },
          "metadata": {},
          "execution_count": 18
        }
      ]
    },
    {
      "cell_type": "code",
      "source": [
        "y_pred = cnn.predict(X_test)\n",
        "y_pred"
      ],
      "metadata": {
        "colab": {
          "base_uri": "https://localhost:8080/"
        },
        "id": "_rfPfsgI565H",
        "outputId": "468e27d9-e80f-4d56-f123-d7d874548e81"
      },
      "execution_count": null,
      "outputs": [
        {
          "output_type": "stream",
          "name": "stdout",
          "text": [
            "313/313 [==============================] - 1s 3ms/step\n"
          ]
        },
        {
          "output_type": "execute_result",
          "data": {
            "text/plain": [
              "array([[3.6613787e-05, 8.1772405e-06, 1.2691637e-05, ..., 3.1919276e-07,\n",
              "        5.3549606e-06, 1.7341257e-05],\n",
              "       [2.4813635e-05, 7.5379592e-01, 1.8203145e-12, ..., 7.2347877e-17,\n",
              "        2.4605796e-01, 1.2135919e-04],\n",
              "       [9.1681913e-02, 1.6701916e-02, 1.5305683e-04, ..., 4.9276109e-06,\n",
              "        8.8294065e-01, 8.2430877e-03],\n",
              "       ...,\n",
              "       [5.7678889e-08, 3.2412886e-10, 4.6344305e-04, ..., 2.7828908e-04,\n",
              "        6.5952442e-08, 1.1716812e-08],\n",
              "       [1.0134657e-03, 9.7749037e-01, 3.9735078e-04, ..., 6.7503155e-05,\n",
              "        2.0634327e-06, 2.0524922e-03],\n",
              "       [1.9601779e-13, 1.9495653e-14, 1.5380824e-10, ..., 9.9999952e-01,\n",
              "        6.0977428e-14, 5.3958482e-16]], dtype=float32)"
            ]
          },
          "metadata": {},
          "execution_count": 19
        }
      ]
    },
    {
      "cell_type": "code",
      "source": [
        "y_classes = [np.argmax(element) for element in y_pred]\n",
        "y_classes[:5]"
      ],
      "metadata": {
        "colab": {
          "base_uri": "https://localhost:8080/"
        },
        "id": "9Un-02zT9m1Q",
        "outputId": "72a250cf-ee13-40f6-8855-15e5e73baac1"
      },
      "execution_count": null,
      "outputs": [
        {
          "output_type": "execute_result",
          "data": {
            "text/plain": [
              "[3, 1, 8, 0, 6]"
            ]
          },
          "metadata": {},
          "execution_count": 20
        }
      ]
    },
    {
      "cell_type": "code",
      "source": [
        "y_test[:5]\n",
        "y_test = y_test.reshape(-1)"
      ],
      "metadata": {
        "id": "KvE4Wm1PCpE6"
      },
      "execution_count": null,
      "outputs": []
    },
    {
      "cell_type": "code",
      "source": [
        "plot_sample(X_test, y_test, 9)"
      ],
      "metadata": {
        "colab": {
          "base_uri": "https://localhost:8080/",
          "height": 237
        },
        "id": "nu3BTgZACydv",
        "outputId": "c1f7cc1e-562c-406f-b3b4-3a9d7f95509d"
      },
      "execution_count": null,
      "outputs": [
        {
          "output_type": "display_data",
          "data": {
            "text/plain": [
              "<Figure size 1500x200 with 1 Axes>"
            ],
            "image/png": "[encoded data removed]"
          },
          "metadata": {}
        }
      ]
    },
    {
      "cell_type": "code",
      "source": [
        "classes[9]"
      ],
      "metadata": {
        "colab": {
          "base_uri": "https://localhost:8080/",
          "height": 35
        },
        "id": "x6KxROodDGLp",
        "outputId": "da9adb38-62c9-4106-de99-bee3f78c0cb3"
      },
      "execution_count": null,
      "outputs": [
        {
          "output_type": "execute_result",
          "data": {
            "text/plain": [
              "'truck'"
            ],
            "application/vnd.google.colaboratory.intrinsic+json": {
              "type": "string"
            }
          },
          "metadata": {},
          "execution_count": 25
        }
      ]
    },
    {
      "cell_type": "code",
      "source": [],
      "metadata": {
        "id": "Hr54z1V2DY0q"
      },
      "execution_count": null,
      "outputs": []
    }
  ]
}